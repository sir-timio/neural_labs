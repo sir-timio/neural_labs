{
 "cells": [
  {
   "cell_type": "code",
   "execution_count": 1,
   "id": "f65c3a5d",
   "metadata": {},
   "outputs": [],
   "source": [
    "import cv2\n",
    "import matplotlib.pyplot as plt"
   ]
  },
  {
   "cell_type": "code",
   "execution_count": 2,
   "id": "ad1969fe",
   "metadata": {},
   "outputs": [],
   "source": [
    "def imshow(image, label=None, figsize=(4,4), cmap='gray', **kwargs):\n",
    "    plt.figure(figsize=figsize)\n",
    "    if label:\n",
    "        print(label)\n",
    "    plt.imshow(image, **kwargs, cmap=cmap)\n",
    "    plt.show()\n",
    "\n",
    "def resize_img(img, height=None, width=None, ratio=None):\n",
    "    h, w = img.shape\n",
    "    dim = None\n",
    "    if ratio:\n",
    "        dim = (w / ratio, h / ratio)\n",
    "    elif width and height:\n",
    "        dim = (width, height)\n",
    "    elif height:\n",
    "        r = height / float(h)\n",
    "        dim = (int(w * r), height)\n",
    "    elif width:\n",
    "        r = width / float(w)\n",
    "        dim = (width, int(h * r))\n",
    "    assert dim, AssertionError(\"dim is None\")\n",
    "    return cv2.resize(img, dim, cv2.INTER_CUBIC)"
   ]
  },
  {
   "cell_type": "code",
   "execution_count": 3,
   "id": "e97a7e62",
   "metadata": {},
   "outputs": [],
   "source": [
    "import torch\n",
    "import torchvision\n",
    "from torchvision import datasets\n",
    "from torchvision.transforms import ToTensor"
   ]
  },
  {
   "cell_type": "code",
   "execution_count": 4,
   "id": "919ce615",
   "metadata": {},
   "outputs": [],
   "source": [
    "dataset = datasets.MNIST(root='data', train=True, download=False, transform=ToTensor())"
   ]
  },
  {
   "cell_type": "code",
   "execution_count": 5,
   "id": "fe1d785c",
   "metadata": {},
   "outputs": [
    {
     "data": {
      "image/png": "[encoded data removed]",
      "text/plain": [
       "<Figure size 288x288 with 1 Axes>"
      ]
     },
     "metadata": {
      "needs_background": "light"
     },
     "output_type": "display_data"
    }
   ],
   "source": [
    "imshow(dataset.data[10])"
   ]
  },
  {
   "cell_type": "code",
   "execution_count": 6,
   "id": "a1ce2d9a",
   "metadata": {},
   "outputs": [
    {
     "data": {
      "text/plain": [
       "<torch._C.Generator at 0x11ccea490>"
      ]
     },
     "execution_count": 6,
     "metadata": {},
     "output_type": "execute_result"
    }
   ],
   "source": [
    "n_epochs = 3\n",
    "batch_size_train = 64\n",
    "batch_size_test = 1000\n",
    "learning_rate = 0.01\n",
    "momentum = 0.5\n",
    "log_interval = 100\n",
    "random_seed = 42\n",
    "torch.backends.cudnn.enabled = False\n",
    "torch.manual_seed(random_seed)"
   ]
  },
  {
   "cell_type": "code",
   "execution_count": 7,
   "id": "1aaf9d1c",
   "metadata": {},
   "outputs": [],
   "source": [
    "train_loader = torch.utils.data.DataLoader(\n",
    "  torchvision.datasets.MNIST('data', train=True, download=False,\n",
    "                             transform=torchvision.transforms.Compose([\n",
    "                               torchvision.transforms.ToTensor(),\n",
    "                               torchvision.transforms.Normalize(\n",
    "                                 (0.1307,), (0.3081,))\n",
    "                             ])),\n",
    "  batch_size=batch_size_train, shuffle=True)\n",
    "\n",
    "test_loader = torch.utils.data.DataLoader(\n",
    "  torchvision.datasets.MNIST('data', train=False, download=False,\n",
    "                             transform=torchvision.transforms.Compose([\n",
    "                               torchvision.transforms.ToTensor(),\n",
    "                               torchvision.transforms.Normalize(\n",
    "                                 (0.1307,), (0.3081,))\n",
    "                             ])),\n",
    "  batch_size=batch_size_test, shuffle=True)"
   ]
  },
  {
   "cell_type": "code",
   "execution_count": 8,
   "id": "5e078c81",
   "metadata": {},
   "outputs": [],
   "source": [
    "import torch.nn as nn\n",
    "import torch.nn.functional as F\n",
    "import torch.optim as optim"
   ]
  },
  {
   "cell_type": "code",
   "execution_count": 9,
   "id": "dbf04fcb",
   "metadata": {},
   "outputs": [],
   "source": [
    "class Net(nn.Module):\n",
    "    def __init__(self):\n",
    "        super(Net, self).__init__()\n",
    "        self.fc = nn.Linear(28*28, 10)\n",
    "    def forward(self, x):\n",
    "        x = x.view(-1, 28*28)\n",
    "        x = F.sigmoid(self.fc(x))\n",
    "        return F.log_softmax(x)"
   ]
  },
  {
   "cell_type": "code",
   "execution_count": 10,
   "id": "2de59850",
   "metadata": {},
   "outputs": [],
   "source": [
    "def train(epoch):\n",
    "  network.train()\n",
    "  for batch_idx, (data, target) in enumerate(train_loader):\n",
    "    optimizer.zero_grad()\n",
    "    output = network(data)\n",
    "    loss = F.nll_loss(output, target)\n",
    "    loss.backward()\n",
    "    optimizer.step()\n",
    "    if batch_idx % log_interval == 0:\n",
    "      print('Train Epoch: {} [{}/{} ({:.0f}%)]\\tLoss: {:.6f}'.format(\n",
    "        epoch, batch_idx * len(data), len(train_loader.dataset),\n",
    "        100. * batch_idx / len(train_loader), loss.item()))\n",
    "      train_losses.append(loss.item())\n",
    "      train_counter.append(\n",
    "        (batch_idx*64) + ((epoch-1)*len(train_loader.dataset)))\n",
    "      torch.save(network.state_dict(), 'results/model.pth')\n",
    "      torch.save(optimizer.state_dict(), 'results/optimizer.pth')"
   ]
  },
  {
   "cell_type": "code",
   "execution_count": 11,
   "id": "0cfd00a8",
   "metadata": {},
   "outputs": [],
   "source": [
    "def test():\n",
    "  network.eval()\n",
    "  test_loss = 0\n",
    "  correct = 0\n",
    "  with torch.no_grad():\n",
    "    for data, target in test_loader:\n",
    "      output = network(data)\n",
    "      test_loss += F.nll_loss(output, target, size_average=False).item()\n",
    "      pred = output.data.max(1, keepdim=True)[1]\n",
    "      correct += pred.eq(target.data.view_as(pred)).sum()\n",
    "  test_loss /= len(test_loader.dataset)\n",
    "  test_losses.append(test_loss)\n",
    "  print('\\nTest set: Avg. loss: {:.4f}, Accuracy: {}/{} ({:.0f}%)\\n'.format(\n",
    "    test_loss, correct, len(test_loader.dataset),\n",
    "    100. * correct / len(test_loader.dataset)))"
   ]
  },
  {
   "cell_type": "code",
   "execution_count": 12,
   "id": "202307db",
   "metadata": {},
   "outputs": [],
   "source": [
    "network = Net()\n",
    "optimizer = optim.SGD(network.parameters(), lr=learning_rate,\n",
    "                      momentum=momentum)"
   ]
  },
  {
   "cell_type": "code",
   "execution_count": 13,
   "id": "8adec639",
   "metadata": {},
   "outputs": [
    {
     "name": "stderr",
     "output_type": "stream",
     "text": [
      "/Users/timur/.pyenv/versions/3.7.10/lib/python3.7/site-packages/torch/nn/functional.py:1960: UserWarning: nn.functional.sigmoid is deprecated. Use torch.sigmoid instead.\n",
      "  warnings.warn(\"nn.functional.sigmoid is deprecated. Use torch.sigmoid instead.\")\n",
      "/Users/timur/.pyenv/versions/3.7.10/lib/python3.7/site-packages/ipykernel_launcher.py:8: UserWarning: Implicit dimension choice for log_softmax has been deprecated. Change the call to include dim=X as an argument.\n",
      "  \n"
     ]
    },
    {
     "name": "stdout",
     "output_type": "stream",
     "text": [
      "Train Epoch: 1 [0/60000 (0%)]\tLoss: 2.292201\n",
      "Train Epoch: 1 [6400/60000 (11%)]\tLoss: 1.817558\n",
      "Train Epoch: 1 [12800/60000 (21%)]\tLoss: 1.737388\n",
      "Train Epoch: 1 [19200/60000 (32%)]\tLoss: 1.730071\n",
      "Train Epoch: 1 [25600/60000 (43%)]\tLoss: 1.729892\n",
      "Train Epoch: 1 [32000/60000 (53%)]\tLoss: 1.740071\n",
      "Train Epoch: 1 [38400/60000 (64%)]\tLoss: 1.669701\n",
      "Train Epoch: 1 [44800/60000 (75%)]\tLoss: 1.674009\n",
      "Train Epoch: 1 [51200/60000 (85%)]\tLoss: 1.653494\n",
      "Train Epoch: 1 [57600/60000 (96%)]\tLoss: 1.632052\n"
     ]
    },
    {
     "name": "stderr",
     "output_type": "stream",
     "text": [
      "/Users/timur/.pyenv/versions/3.7.10/lib/python3.7/site-packages/torch/nn/_reduction.py:42: UserWarning: size_average and reduce args will be deprecated, please use reduction='sum' instead.\n",
      "  warnings.warn(warning.format(ret))\n"
     ]
    },
    {
     "name": "stdout",
     "output_type": "stream",
     "text": [
      "\n",
      "Test set: Avg. loss: 1.6461, Accuracy: 8776/10000 (88%)\n",
      "\n",
      "Train Epoch: 2 [0/60000 (0%)]\tLoss: 1.643717\n",
      "Train Epoch: 2 [6400/60000 (11%)]\tLoss: 1.606779\n",
      "Train Epoch: 2 [12800/60000 (21%)]\tLoss: 1.669997\n",
      "Train Epoch: 2 [19200/60000 (32%)]\tLoss: 1.641286\n",
      "Train Epoch: 2 [25600/60000 (43%)]\tLoss: 1.649328\n",
      "Train Epoch: 2 [32000/60000 (53%)]\tLoss: 1.613128\n",
      "Train Epoch: 2 [38400/60000 (64%)]\tLoss: 1.634467\n",
      "Train Epoch: 2 [44800/60000 (75%)]\tLoss: 1.605884\n",
      "Train Epoch: 2 [51200/60000 (85%)]\tLoss: 1.655666\n",
      "Train Epoch: 2 [57600/60000 (96%)]\tLoss: 1.645501\n",
      "\n",
      "Test set: Avg. loss: 1.6164, Accuracy: 8882/10000 (89%)\n",
      "\n",
      "Train Epoch: 3 [0/60000 (0%)]\tLoss: 1.629586\n",
      "Train Epoch: 3 [6400/60000 (11%)]\tLoss: 1.560909\n",
      "Train Epoch: 3 [12800/60000 (21%)]\tLoss: 1.639778\n",
      "Train Epoch: 3 [19200/60000 (32%)]\tLoss: 1.598402\n",
      "Train Epoch: 3 [25600/60000 (43%)]\tLoss: 1.581700\n",
      "Train Epoch: 3 [32000/60000 (53%)]\tLoss: 1.599561\n",
      "Train Epoch: 3 [38400/60000 (64%)]\tLoss: 1.607303\n",
      "Train Epoch: 3 [44800/60000 (75%)]\tLoss: 1.612576\n",
      "Train Epoch: 3 [51200/60000 (85%)]\tLoss: 1.615133\n",
      "Train Epoch: 3 [57600/60000 (96%)]\tLoss: 1.594779\n",
      "\n",
      "Test set: Avg. loss: 1.6033, Accuracy: 8935/10000 (89%)\n",
      "\n"
     ]
    }
   ],
   "source": [
    "train_losses = []\n",
    "train_counter = []\n",
    "test_losses = []\n",
    "test_counter = [i*len(train_loader.dataset) for i in range(n_epochs + 1)]\n",
    "\n",
    "for epoch in range(1, n_epochs + 1):\n",
    "    train(epoch)\n",
    "    test()"
   ]
  },
  {
   "cell_type": "code",
   "execution_count": 17,
   "id": "35f6cb9a",
   "metadata": {},
   "outputs": [
    {
     "data": {
      "image/png": "[encoded data removed]",
      "text/plain": [
       "<Figure size 432x288 with 1 Axes>"
      ]
     },
     "execution_count": 17,
     "metadata": {},
     "output_type": "execute_result"
    },
    {
     "data": {
      "image/png": "[encoded data removed]",
      "text/plain": [
       "<Figure size 432x288 with 1 Axes>"
      ]
     },
     "metadata": {
      "needs_background": "light"
     },
     "output_type": "display_data"
    }
   ],
   "source": [
    "fig = plt.figure()\n",
    "plt.plot(train_counter[:len(train_losses)], train_losses, color='blue')\n",
    "plt.scatter(test_counter[:len(test_losses)], test_losses, color='red')\n",
    "plt.legend(['Train Loss', 'Test Loss'], loc='upper right')\n",
    "plt.xlabel('number of training examples seen')\n",
    "plt.ylabel('negative log likelihood loss')\n",
    "fig"
   ]
  },
  {
   "cell_type": "code",
   "execution_count": null,
   "id": "aecc64fd",
   "metadata": {},
   "outputs": [],
   "source": [
    "# Class Neural Network, defines multiple layers and runs forwad and back propogation to train the network.\n",
    "class NeuralNetwork:\n",
    "    \n",
    "    # defines the shape of Network and initializes layers\n",
    "    def __init__(self, shape):\n",
    "        self.shape = shape\n",
    "        self.layers = list()\n",
    "        self.log_loss_hist = list()\n",
    "        j = 0\n",
    "        for i in shape:\n",
    "            self.layers.append(Layer(i,j))\n",
    "            j = j + 1\n",
    "        \n",
    "    # Initializes the weights and biases of our network for each layer\n",
    "    def initialize(self, X, y):\n",
    "        for i in range(len(self.layers)):\n",
    "            if i == 0:\n",
    "                self.layers[i].init_weight(X.shape[1], self.layers[i].size)\n",
    "            else:\n",
    "                self.layers[i].init_weight(self.layers[i-1].size, self.layers[i].size)\n",
    "       \n",
    "    # performs forward propogation\n",
    "    def forward_propogation(self, X):\n",
    "        a = X.T\n",
    "        for layer in self.layers:\n",
    "            a =\n",
    "            a = layer.activation(a)\n",
    "            print(a.shape)\n",
    "            \n",
    "    # calculates log logs and return the result\n",
    "    def loss(self, outputs, y):\n",
    "        lb = LabelBinarizer()\n",
    "        y_lb = lb.fit_transform(y)\n",
    "        outputs_lb = lb.transform(outputs)\n",
    "        loss = log_loss(y_lb, outputs_lb)\n",
    "        return loss\n",
    "    \n",
    "    # Performs the most critical, Backpropogation to calculate delta values for each layer\n",
    "    def backpropogate(self, X, y):\n",
    "        delta = list()\n",
    "        delta_w = [0 for _ in range(len(self.layers))]\n",
    "        delta_b = [0 for _ in range(len(self.layers))]\n",
    "        error_o = (self.layers[-1].z - y.T)\n",
    "        for i in reversed(range(len(self.layers) - 1)):\n",
    "            error_i = np.multiply(self.layers[i+1].weights.T.dot(error_o), self.layers[i].activation_grad())\n",
    "            delta_w[i+1] = error_o.dot(self.layers[i].a.T)/len(y)\n",
    "            delta_b[i+1] = np.sum(error_o, axis=1, keepdims=True)/len(y)\n",
    "            error_o = error_i\n",
    "        delta_w[0] = error_o.dot(X)\n",
    "        delta_b[0] = np.sum(error_o, axis=1, keepdims=True)/len(y)\n",
    "        return (delta_w, delta_b)\n",
    "        \n",
    "    # Uses the delta values to update weights and biases\n",
    "    def update_weights_bias(self, delta_w, delta_b, lr):\n",
    "        #print(self.layers[0].bias.shape)\n",
    "        for i in range(len(self.layers)):\n",
    "            layer = self.layers[i]\n",
    "            layer.weights = layer.weights - (lr*delta_w[i])\n",
    "            layer.bias = layer.bias - (lr*delta_b[i]) \n",
    "    \n",
    "    # Used to orchestrate the training of network, given a certain epoch and learning rate\n",
    "    def train(self, X, y, epochs, batch_size, lr):\n",
    "        self.initialize(X, y)\n",
    "        lb = LabelBinarizer()\n",
    "        y_lb = lb.fit_transform(y)\n",
    "        y_lb = lb.fit_transform(y)\n",
    "        for i in tqdm(range(epochs)):\n",
    "            low = 0\n",
    "            high = low + batch_size\n",
    "            self.log_loss_hist.append(self.loss(np.argmax(self.predict(X), axis=0), y))\n",
    "            while(low < X.shape[0]):\n",
    "                X_bat = X[low:high,:]\n",
    "                y_bat = y_lb[low:high]\n",
    "                self.forward_propogation(X_bat)\n",
    "                outputs = self.layers[-1].a\n",
    "                delta_w, delta_b = self.backpropogate(X_bat, y_bat)\n",
    "                self.update_weights_bias(delta_w, delta_b, lr)\n",
    "                low = high\n",
    "                if (low + batch_size) > X.shape[0]:\n",
    "                    high = X.shape[0]\n",
    "                else:\n",
    "                    high = low + batch_size\n",
    "\n",
    "    # Runs the input through the network and returns\n",
    "    def predict(self, X):\n",
    "        a = X.T\n",
    "        for layer in self.layers:\n",
    "            a = layer.activation(a)\n",
    "        return "
   ]
  },
  {
   "cell_type": "code",
   "execution_count": null,
   "id": "f229f1c2",
   "metadata": {},
   "outputs": [],
   "source": []
  }
 ],
 "metadata": {
  "kernelspec": {
   "display_name": "Python 3",
   "language": "python",
   "name": "python3"
  },
  "language_info": {
   "codemirror_mode": {
    "name": "ipython",
    "version": 3
   },
   "file_extension": ".py",
   "mimetype": "text/x-python",
   "name": "python",
   "nbconvert_exporter": "python",
   "pygments_lexer": "ipython3",
   "version": "3.7.10"
  }
 },
 "nbformat": 4,
 "nbformat_minor": 5
}
