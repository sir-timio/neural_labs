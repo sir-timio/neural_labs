{
 "cells": [
  {
   "cell_type": "code",
   "execution_count": 1,
   "id": "f65c3a5d",
   "metadata": {},
   "outputs": [],
   "source": [
    "import cv2\n",
    "import matplotlib.pyplot as plt\n",
    "import numpy as np\n",
    "import pandas as pd\n",
    "from tqdm.notebook import tqdm_notebook as tqdm"
   ]
  },
  {
   "cell_type": "code",
   "execution_count": 2,
   "id": "ad1969fe",
   "metadata": {},
   "outputs": [],
   "source": [
    "def imshow(image, label=None, figsize=(4,4), cmap='gray', **kwargs):\n",
    "    plt.figure(figsize=figsize)\n",
    "    if label is not None:\n",
    "        print(label)\n",
    "    plt.imshow(image, **kwargs, cmap=cmap)\n",
    "    plt.show()"
   ]
  },
  {
   "cell_type": "code",
   "execution_count": 3,
   "id": "ab8a63a1",
   "metadata": {},
   "outputs": [],
   "source": [
    "from PIL import Image\n",
    "class Resize:\n",
    "    def __init__(self, height, width):\n",
    "        self.height = height\n",
    "        self.width = width\n",
    "\n",
    "    def __call__(self, img):\n",
    "        return img.resize((self.width, self.height), Image.BICUBIC)"
   ]
  },
  {
   "cell_type": "code",
   "execution_count": 4,
   "id": "f3418fca",
   "metadata": {},
   "outputs": [],
   "source": [
    "class Flatten:\n",
    "    def __call__(self, img):\n",
    "        return img.flatten()"
   ]
  },
  {
   "cell_type": "markdown",
   "id": "c0b5ed96",
   "metadata": {},
   "source": [
    "# загрузка датасета"
   ]
  },
  {
   "cell_type": "code",
   "execution_count": 5,
   "id": "e97a7e62",
   "metadata": {},
   "outputs": [],
   "source": [
    "import torch\n",
    "import torchvision\n",
    "from torchvision import datasets\n",
    "from torchvision.transforms import ToTensor, Normalize\n",
    "from torch.utils.data import DataLoader\n",
    "import torch.nn.functional as F"
   ]
  },
  {
   "cell_type": "code",
   "execution_count": 6,
   "id": "395d1ca0",
   "metadata": {},
   "outputs": [],
   "source": [
    "N = 14\n",
    "NUM_CLASSES = 10\n",
    "SEED = 42\n",
    "BATCH_SIZE = 1"
   ]
  },
  {
   "cell_type": "code",
   "execution_count": 7,
   "id": "0ac93a11",
   "metadata": {},
   "outputs": [],
   "source": [
    "transforms = torchvision.transforms.Compose([\n",
    "    Resize(N, N),\n",
    "    ToTensor(),\n",
    "    Normalize((0.1307,), (0.3081,)),\n",
    "    Flatten(),\n",
    "])"
   ]
  },
  {
   "cell_type": "code",
   "execution_count": 8,
   "id": "919ce615",
   "metadata": {},
   "outputs": [],
   "source": [
    "train_dataset = datasets.MNIST(root='data', train=True, download=False, transform=transforms)\n",
    "test_dataset = datasets.MNIST(root='data', train=False, download=False, transform=transforms)"
   ]
  },
  {
   "cell_type": "code",
   "execution_count": 9,
   "id": "72112dd0",
   "metadata": {},
   "outputs": [],
   "source": [
    "train_loader = DataLoader(train_dataset, batch_size=BATCH_SIZE, shuffle=True)\n",
    "test_loader = DataLoader(test_dataset, batch_size=BATCH_SIZE, shuffle=False)"
   ]
  },
  {
   "cell_type": "code",
   "execution_count": 12,
   "id": "7e9be11f",
   "metadata": {},
   "outputs": [],
   "source": [
    "for img, label in train_loader:\n",
    "    break"
   ]
  },
  {
   "cell_type": "code",
   "execution_count": 13,
   "id": "8a267985",
   "metadata": {},
   "outputs": [
    {
     "name": "stdout",
     "output_type": "stream",
     "text": [
      "4\n"
     ]
    },
    {
     "data": {
      "image/png": "[encoded data removed]",
      "text/plain": [
       "<Figure size 288x288 with 1 Axes>"
      ]
     },
     "metadata": {
      "needs_background": "light"
     },
     "output_type": "display_data"
    }
   ],
   "source": [
    "imshow(img.reshape(N, N), label=label[0].item())"
   ]
  },
  {
   "cell_type": "markdown",
   "id": "87052036",
   "metadata": {},
   "source": [
    "# функции активации"
   ]
  },
  {
   "cell_type": "code",
   "execution_count": 27,
   "id": "2c599dae",
   "metadata": {},
   "outputs": [],
   "source": [
    "x = np.linspace(-5, 5, 100)"
   ]
  },
  {
   "cell_type": "markdown",
   "id": "7477a1da",
   "metadata": {},
   "source": [
    "### сигмоида"
   ]
  },
  {
   "cell_type": "code",
   "execution_count": 28,
   "id": "4f3d2113",
   "metadata": {},
   "outputs": [],
   "source": [
    "def sigmoid(x):\n",
    "    return 1 / (1 + np.exp(-x))\n",
    "\n",
    "def d_sigmoid(x):\n",
    "    return sigmoid(x) * (1 - sigmoid(x))"
   ]
  },
  {
   "cell_type": "code",
   "execution_count": 29,
   "id": "dba4d68b",
   "metadata": {
    "scrolled": true
   },
   "outputs": [
    {
     "data": {
      "text/plain": [
       "[<matplotlib.lines.Line2D at 0x16e98af10>]"
      ]
     },
     "execution_count": 29,
     "metadata": {},
     "output_type": "execute_result"
    },
    {
     "data": {
      "image/png": "[encoded data removed]",
      "text/plain": [
       "<Figure size 432x288 with 1 Axes>"
      ]
     },
     "metadata": {
      "needs_background": "light"
     },
     "output_type": "display_data"
    }
   ],
   "source": [
    "plt.plot(x, sigmoid(x))\n",
    "plt.plot(x, d_sigmoid(x))"
   ]
  },
  {
   "cell_type": "markdown",
   "id": "56b80b01",
   "metadata": {},
   "source": [
    "### гиперболический тангенс"
   ]
  },
  {
   "cell_type": "code",
   "execution_count": 15,
   "id": "b48d52e6",
   "metadata": {},
   "outputs": [],
   "source": [
    "def tanh(x):\n",
    "    return (np.exp(x)-np.exp(-x))/(np.exp(x)+np.exp(-x))\n",
    "\n",
    "def d_tanh(x):\n",
    "    return 1 - tanh(x)**2"
   ]
  },
  {
   "cell_type": "code",
   "execution_count": 30,
   "id": "c0fcafdb",
   "metadata": {},
   "outputs": [
    {
     "data": {
      "text/plain": [
       "[<matplotlib.lines.Line2D at 0x16e187450>]"
      ]
     },
     "execution_count": 30,
     "metadata": {},
     "output_type": "execute_result"
    },
    {
     "data": {
      "image/png": "[encoded data removed]",
      "text/plain": [
       "<Figure size 432x288 with 1 Axes>"
      ]
     },
     "metadata": {
      "needs_background": "light"
     },
     "output_type": "display_data"
    }
   ],
   "source": [
    "plt.plot(x, tanh(x))\n",
    "plt.plot(x, d_tanh(x))"
   ]
  },
  {
   "cell_type": "markdown",
   "id": "fbbe4c20",
   "metadata": {},
   "source": [
    "### линейный выпрямитель"
   ]
  },
  {
   "cell_type": "code",
   "execution_count": 16,
   "id": "f357f701",
   "metadata": {},
   "outputs": [],
   "source": [
    "def ReLU(x):\n",
    "    return x * (x > 0)\n",
    "\n",
    "def d_ReLU(x):\n",
    "    return 1. * (x > 0)"
   ]
  },
  {
   "cell_type": "code",
   "execution_count": 31,
   "id": "2deb5b75",
   "metadata": {},
   "outputs": [
    {
     "data": {
      "text/plain": [
       "[<matplotlib.lines.Line2D at 0x16cdd08d0>]"
      ]
     },
     "execution_count": 31,
     "metadata": {},
     "output_type": "execute_result"
    },
    {
     "data": {
      "image/png": "[encoded data removed]",
      "text/plain": [
       "<Figure size 432x288 with 1 Axes>"
      ]
     },
     "metadata": {
      "needs_background": "light"
     },
     "output_type": "display_data"
    }
   ],
   "source": [
    "plt.plot(x, ReLU(x))\n",
    "plt.plot(x, d_ReLU(x))"
   ]
  },
  {
   "cell_type": "markdown",
   "id": "190c0efb",
   "metadata": {},
   "source": [
    "# функции потерь"
   ]
  },
  {
   "cell_type": "markdown",
   "id": "3daebd6e",
   "metadata": {},
   "source": [
    "## среднеквадратичная ошибка"
   ]
  },
  {
   "cell_type": "code",
   "execution_count": 39,
   "id": "ed57331f",
   "metadata": {},
   "outputs": [],
   "source": [
    "def mse_cost(pred, y) -> float:\n",
    "    return (1/2 * np.square(pred-y)).mean()\n",
    "\n",
    "def d_mse_cost(pred, y) -> np.array:\n",
    "    return (pred-y)"
   ]
  },
  {
   "cell_type": "code",
   "execution_count": 41,
   "id": "acfc8a4e",
   "metadata": {},
   "outputs": [],
   "source": [
    "class NN():\n",
    "    def __init__(self, sizes=[N*N, 10], activation='sigmoid', cost='mse'):\n",
    "        np.random.seed(SEED)\n",
    "        self.num_layers = len(sizes)\n",
    "        self.sizes = sizes\n",
    "        self.num_classes = sizes[-1]\n",
    "        self.w = np.random.uniform(-1, 1, size=(N*N, self.num_classes))\n",
    "        self.b = np.random.uniform(-1, 1, size=(self.num_classes,))\n",
    "        self.biases = [\n",
    "            np.random.uniform(-1, 1, size=(s_in,)) for s_in in sizes[1:]\n",
    "        ]\n",
    "        \n",
    "        self.weights = [\n",
    "            np.random.uniform(\n",
    "                low=-1., high=1., size=(in_s, out_s)\n",
    "            )\n",
    "            for in_s, out_s in zip(sizes[:-1], sizes[1:])\n",
    "        ]\n",
    "        self.set_activation(activation)\n",
    "        self.set_cost(cost)\n",
    "    \n",
    "    def set_activation(self, name='sigmoid'):\n",
    "        if name == 'sigmoid':\n",
    "            self.activation = sigmoid\n",
    "            self.d_activation = d_sigmoid\n",
    "        elif name == 'tanh':\n",
    "            self.activation = tanh\n",
    "            self.d_activation = d_tanh\n",
    "        elif name == 'relu':\n",
    "            self.activation = ReLU\n",
    "            self.d_activation = d_ReLU\n",
    "        else:\n",
    "            raise('no such activation')\n",
    "    \n",
    "    def set_cost(self, name='mse'):\n",
    "        if name == 'mse':\n",
    "            self.cost = mse_cost\n",
    "            self.d_cost = d_mse_cost\n",
    "#         elif name == 'ce':\n",
    "#             pass\n",
    "        else:\n",
    "            raise('no such cost')\n",
    "\n",
    "    def forward_collect(self, x):\n",
    "        zs = []\n",
    "        activations = [x]\n",
    "        for b, w in zip(self.biases, self.weights):\n",
    "            z = np.dot(x, w) + b\n",
    "            x = self.activation(z)\n",
    "            zs.append(z)\n",
    "            activations.append(x)\n",
    "        return zs, activations\n",
    "    \n",
    "    def one_hot(self, label):\n",
    "        return F.one_hot(label, self.num_classes)\n",
    "    \n",
    "    def backward(self, zs, activations, y):\n",
    "        nabla_b = [np.zeros(b.shape) for b in self.biases]\n",
    "        nabla_w = [np.zeros(w.shape) for w in self.weights]\n",
    "\n",
    "        last_a = activations[-1]\n",
    "        prev_last_a = activations[-2]\n",
    "        last_z = zs[-1]\n",
    "        \n",
    "        dcost = self.d_cost(last_a, y) * self.d_activation(last_z)\n",
    "    \n",
    "        nabla_w[-1] = np.dot(dcost.T, prev_last_a).T\n",
    "        nabla_b[-1] = np.sum(dcost, axis=0)\n",
    "        \n",
    "        for i in range(2, self.num_layers):\n",
    "            z = zs[-i]\n",
    "            prev_a = activations[-i-1]\n",
    "            dcost = np.dot(self.weights[-i+1], dcost.T).T * self.d_activation(z)\n",
    "            nabla_w[-i] = np.dot(dcost.T, prev_a).T\n",
    "            nabla_b[-i] = np.sum(dcost, axis=0)\n",
    "            \n",
    "        return nabla_w, nabla_b\n",
    "    \n",
    "    def train(self, loader, lr=1e-2, num_samples=1000):\n",
    "        samples = 0\n",
    "        for img, label in loader:\n",
    "            bs = img.shape[0]\n",
    "            y = self.one_hot(label).numpy()\n",
    "            x = img.numpy()\n",
    "            \n",
    "            zs, activations = self.forward_collect(x)\n",
    "            nabla_w, nabla_b = self.backward(zs, activations, y)\n",
    "            \n",
    "            for i, d in enumerate(zip(nabla_w, nabla_b)):\n",
    "                dw, db = d\n",
    "                self.weights[i] -= lr * dw\n",
    "                self.biases[i] -= lr * db\n",
    "            samples += 1\n",
    "            if samples == num_samples:\n",
    "                break\n",
    "\n",
    "    def predict(self, imgs):\n",
    "        x = imgs\n",
    "        pred = self.forward_collect(x)[1][-1]\n",
    "        label = np.argmax(np.array(pred), axis=1)\n",
    "        return label\n",
    "\n",
    "    def testing(self, loader, num_samples=1000):\n",
    "        acc = 0\n",
    "        counter = 0\n",
    "        all_labels = []\n",
    "        all_preds = []\n",
    "        losses = []\n",
    "        samples = 0\n",
    "        for img, label in loader:\n",
    "            bs = img.shape[0]\n",
    "            y = self.one_hot(label).numpy()\n",
    "            x = img.numpy()\n",
    "            pred = self.forward_collect(x)[1][-1]\n",
    "            loss = np.mean(self.cost(pred, y))\n",
    "            losses.append(loss)\n",
    "            preds = np.argmax(np.array(pred), axis=1)\n",
    "            labels = label.numpy()\n",
    "            \n",
    "            acc += sum(labels == preds)\n",
    "            counter += bs\n",
    "            \n",
    "            all_labels.extend(labels)\n",
    "            all_preds.extend(preds)\n",
    "            \n",
    "            samples += 1\n",
    "            if samples == num_samples:\n",
    "                break\n",
    "                \n",
    "        return acc / counter, np.mean(losses), all_labels, all_preds \n",
    "            "
   ]
  },
  {
   "cell_type": "code",
   "execution_count": 42,
   "id": "f194e882",
   "metadata": {},
   "outputs": [],
   "source": [
    "BATCH_SIZE = 64"
   ]
  },
  {
   "cell_type": "code",
   "execution_count": 43,
   "id": "b454c85b",
   "metadata": {},
   "outputs": [],
   "source": [
    "train_loader = DataLoader(train_dataset, batch_size=BATCH_SIZE, shuffle=True)\n",
    "test_loader = DataLoader(test_dataset, batch_size=BATCH_SIZE, shuffle=False)"
   ]
  },
  {
   "cell_type": "code",
   "execution_count": 44,
   "id": "00cb33a8",
   "metadata": {},
   "outputs": [],
   "source": [
    "EPOCHS = 100\n",
    "NUM_SAMPLES = 100 # number of batches\n",
    "VAL_NUM_SAMPLES = 10 # number of batches\n",
    "LR = 0.001"
   ]
  },
  {
   "cell_type": "code",
   "execution_count": 45,
   "id": "ed802881",
   "metadata": {},
   "outputs": [],
   "source": [
    "ACTIVATIONS = ['sigmoid', 'relu', 'tanh']"
   ]
  },
  {
   "cell_type": "code",
   "execution_count": 46,
   "id": "3f3cdbe3",
   "metadata": {
    "scrolled": false
   },
   "outputs": [
    {
     "name": "stdout",
     "output_type": "stream",
     "text": [
      "start train for sigmoid\n"
     ]
    },
    {
     "data": {
      "application/vnd.jupyter.widget-view+json": {
       "model_id": "3f032bc1d9f44aa8ac46f8f7e836a202",
       "version_major": 2,
       "version_minor": 0
      },
      "text/plain": [
       "  0%|          | 0/100 [00:00<?, ?it/s]"
      ]
     },
     "metadata": {},
     "output_type": "display_data"
    },
    {
     "name": "stdout",
     "output_type": "stream",
     "text": [
      "end train for sigmoid\n",
      "start train for relu\n"
     ]
    },
    {
     "data": {
      "application/vnd.jupyter.widget-view+json": {
       "model_id": "7ce121534c07401ba3e635a8ace59375",
       "version_major": 2,
       "version_minor": 0
      },
      "text/plain": [
       "  0%|          | 0/100 [00:00<?, ?it/s]"
      ]
     },
     "metadata": {},
     "output_type": "display_data"
    },
    {
     "name": "stdout",
     "output_type": "stream",
     "text": [
      "end train for relu\n",
      "start train for tanh\n"
     ]
    },
    {
     "data": {
      "application/vnd.jupyter.widget-view+json": {
       "model_id": "ae1f7fd9afa8402592f4e87c7d25e4c1",
       "version_major": 2,
       "version_minor": 0
      },
      "text/plain": [
       "  0%|          | 0/100 [00:00<?, ?it/s]"
      ]
     },
     "metadata": {},
     "output_type": "display_data"
    },
    {
     "name": "stdout",
     "output_type": "stream",
     "text": [
      "end train for tanh\n"
     ]
    }
   ],
   "source": [
    "acc_map = dict()\n",
    "loss_map = dict()\n",
    "\n",
    "for a_name in ACTIVATIONS:\n",
    "    acc_map[a_name] = []\n",
    "    loss_map[a_name] = []\n",
    "    \n",
    "    nn = NN([N*N, 64, NUM_CLASSES], a_name)\n",
    "    \n",
    "    print(f'start train for {a_name}')\n",
    "    \n",
    "    for i in tqdm(range(EPOCHS)):\n",
    "        nn.train(train_loader, lr=LR, num_samples=NUM_SAMPLES)\n",
    "        acc, loss, labels, preds = nn.testing(test_loader, num_samples=VAL_NUM_SAMPLES)\n",
    "        acc_map[a_name].append(acc)\n",
    "        loss_map[a_name].append(loss)\n",
    "\n",
    "    print(f'end train for {a_name}')"
   ]
  },
  {
   "cell_type": "code",
   "execution_count": null,
   "id": "0842ab5b",
   "metadata": {},
   "outputs": [],
   "source": [
    "for ax in axs.flat:\n",
    "    ax.label_outer()"
   ]
  },
  {
   "cell_type": "code",
   "execution_count": 66,
   "id": "af600882",
   "metadata": {},
   "outputs": [
    {
     "data": {
      "image/png": "[encoded data removed]",
      "text/plain": [
       "<Figure size 1080x1080 with 2 Axes>"
      ]
     },
     "metadata": {
      "needs_background": "light"
     },
     "output_type": "display_data"
    }
   ],
   "source": [
    "fig, axs = plt.subplots(nrows=2, figsize=(15, 15))\n",
    "for name in ACTIVATIONS:\n",
    "    axs[0].plot(acc_map[name])\n",
    "    axs[0].legend(ACTIVATIONS, prop={'size': 15})\n",
    "    axs[1].plot(loss_map[name])\n",
    "    axs[1].set(ylabel='loss')\n",
    "    axs[1].legend(ACTIVATIONS, prop={'size': 15})\n",
    "for ax in axs.flat:\n",
    "    ax.label_outer()"
   ]
  },
  {
   "cell_type": "code",
   "execution_count": 51,
   "id": "d93ec6c7",
   "metadata": {
    "scrolled": false
   },
   "outputs": [
    {
     "name": "stdout",
     "output_type": "stream",
     "text": [
      "pred: 6\n",
      "gt: 5\n"
     ]
    },
    {
     "data": {
      "image/png": "[encoded data removed]",
      "text/plain": [
       "<Figure size 288x288 with 1 Axes>"
      ]
     },
     "metadata": {
      "needs_background": "light"
     },
     "output_type": "display_data"
    },
    {
     "name": "stdout",
     "output_type": "stream",
     "text": [
      "pred: 8\n",
      "gt: 6\n"
     ]
    },
    {
     "data": {
      "image/png": "[encoded data removed]",
      "text/plain": [
       "<Figure size 288x288 with 1 Axes>"
      ]
     },
     "metadata": {
      "needs_background": "light"
     },
     "output_type": "display_data"
    },
    {
     "name": "stdout",
     "output_type": "stream",
     "text": [
      "pred: 3\n",
      "gt: 5\n"
     ]
    },
    {
     "data": {
      "image/png": "[encoded data removed]",
      "text/plain": [
       "<Figure size 288x288 with 1 Axes>"
      ]
     },
     "metadata": {
      "needs_background": "light"
     },
     "output_type": "display_data"
    },
    {
     "name": "stdout",
     "output_type": "stream",
     "text": [
      "pred: 5\n",
      "gt: 4\n"
     ]
    },
    {
     "data": {
      "image/png": "[encoded data removed]",
      "text/plain": [
       "<Figure size 288x288 with 1 Axes>"
      ]
     },
     "metadata": {
      "needs_background": "light"
     },
     "output_type": "display_data"
    },
    {
     "name": "stdout",
     "output_type": "stream",
     "text": [
      "pred: 3\n",
      "gt: 2\n"
     ]
    },
    {
     "data": {
      "image/png": "[encoded data removed]",
      "text/plain": [
       "<Figure size 288x288 with 1 Axes>"
      ]
     },
     "metadata": {
      "needs_background": "light"
     },
     "output_type": "display_data"
    },
    {
     "name": "stdout",
     "output_type": "stream",
     "text": [
      "pred: 8\n",
      "gt: 2\n"
     ]
    },
    {
     "data": {
      "image/png": "[encoded data removed]",
      "text/plain": [
       "<Figure size 288x288 with 1 Axes>"
      ]
     },
     "metadata": {
      "needs_background": "light"
     },
     "output_type": "display_data"
    },
    {
     "name": "stdout",
     "output_type": "stream",
     "text": [
      "pred: 3\n",
      "gt: 5\n"
     ]
    },
    {
     "data": {
      "image/png": "[encoded data removed]",
      "text/plain": [
       "<Figure size 288x288 with 1 Axes>"
      ]
     },
     "metadata": {
      "needs_background": "light"
     },
     "output_type": "display_data"
    },
    {
     "name": "stdout",
     "output_type": "stream",
     "text": [
      "pred: 3\n",
      "gt: 5\n"
     ]
    },
    {
     "data": {
      "image/png": "[encoded data removed]",
      "text/plain": [
       "<Figure size 288x288 with 1 Axes>"
      ]
     },
     "metadata": {
      "needs_background": "light"
     },
     "output_type": "display_data"
    },
    {
     "name": "stdout",
     "output_type": "stream",
     "text": [
      "pred: 8\n",
      "gt: 0\n"
     ]
    },
    {
     "data": {
      "image/png": "[encoded data removed]",
      "text/plain": [
       "<Figure size 288x288 with 1 Axes>"
      ]
     },
     "metadata": {
      "needs_background": "light"
     },
     "output_type": "display_data"
    },
    {
     "name": "stdout",
     "output_type": "stream",
     "text": [
      "pred: 7\n",
      "gt: 5\n"
     ]
    },
    {
     "data": {
      "image/png": "[encoded data removed]",
      "text/plain": [
       "<Figure size 288x288 with 1 Axes>"
      ]
     },
     "metadata": {
      "needs_background": "light"
     },
     "output_type": "display_data"
    }
   ],
   "source": [
    "test_loader = DataLoader(test_dataset, batch_size=1, shuffle=False)\n",
    "stop = 10\n",
    "for img, label in test_loader:\n",
    "    x = img.numpy()\n",
    "    label = label[0].numpy()\n",
    "    pred = nn.predict(x)[0]\n",
    "    \n",
    "    if pred != label:\n",
    "        imshow(x.reshape(N, N), f'pred: {pred}\\ngt: {label}')\n",
    "        stop -= 1\n",
    "\n",
    "        \n",
    "    if stop == 0:\n",
    "        break"
   ]
  },
  {
   "cell_type": "code",
   "execution_count": null,
   "id": "538b3ba1",
   "metadata": {},
   "outputs": [],
   "source": []
  },
  {
   "cell_type": "code",
   "execution_count": null,
   "id": "52662d95",
   "metadata": {},
   "outputs": [],
   "source": []
  },
  {
   "cell_type": "code",
   "execution_count": null,
   "id": "d20ab473",
   "metadata": {},
   "outputs": [],
   "source": []
  },
  {
   "cell_type": "code",
   "execution_count": null,
   "id": "87e814e3",
   "metadata": {},
   "outputs": [],
   "source": []
  },
  {
   "cell_type": "code",
   "execution_count": null,
   "id": "8f46fba4",
   "metadata": {},
   "outputs": [],
   "source": []
  },
  {
   "cell_type": "code",
   "execution_count": null,
   "id": "2605592c",
   "metadata": {},
   "outputs": [],
   "source": []
  },
  {
   "cell_type": "markdown",
   "id": "2bd357eb",
   "metadata": {},
   "source": [
    "### кросс-энтропия"
   ]
  },
  {
   "cell_type": "code",
   "execution_count": 52,
   "id": "5e5919e9",
   "metadata": {},
   "outputs": [],
   "source": [
    "def cross_entropy(X,y):\n",
    "    X = X.clip(min=1e-8, max=None)\n",
    "    return (np.where(y==1,-np.log(X), 0)).sum(axis=1)\n",
    "\n",
    "def cross_entropy_derivative(X,y):\n",
    "    X = X.clip(min=1e-8, max=None)\n",
    "    return np.where(y==1,-1/X, 0)"
   ]
  },
  {
   "cell_type": "code",
   "execution_count": null,
   "id": "531d4c38",
   "metadata": {},
   "outputs": [],
   "source": [
    "def softmax(x):\n",
    "    y = np.exp(x)\n",
    "    return y / np.sum(y)\n",
    "\n",
    "def cross_entropy_loss(y, pred):\n",
    "    bs = y.shape[0]\n",
    "    return -np.sum(y * np.log(pred)) / bs"
   ]
  }
 ],
 "metadata": {
  "kernelspec": {
   "display_name": "Python 3",
   "language": "python",
   "name": "python3"
  },
  "language_info": {
   "codemirror_mode": {
    "name": "ipython",
    "version": 3
   },
   "file_extension": ".py",
   "mimetype": "text/x-python",
   "name": "python",
   "nbconvert_exporter": "python",
   "pygments_lexer": "ipython3",
   "version": "3.7.10"
  }
 },
 "nbformat": 4,
 "nbformat_minor": 5
}
