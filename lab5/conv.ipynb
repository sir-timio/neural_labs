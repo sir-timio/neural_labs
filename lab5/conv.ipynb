{
 "cells": [
  {
   "cell_type": "code",
   "execution_count": 1,
   "id": "f65c3a5d",
   "metadata": {},
   "outputs": [],
   "source": [
    "import cv2\n",
    "import matplotlib.pyplot as plt\n",
    "import numpy as np\n",
    "import pandas as pd\n",
    "from tqdm.notebook import tqdm_notebook as tqdm\n",
    "\n",
    "import torch\n",
    "import torchvision\n",
    "from torchvision import datasets\n",
    "from torchvision.transforms import ToTensor, Normalize\n",
    "from torch.utils.data import DataLoader, Subset\n",
    "from copy import deepcopy\n",
    "import json\n",
    "from itertools import product"
   ]
  },
  {
   "cell_type": "code",
   "execution_count": 10,
   "id": "e3151e6e",
   "metadata": {},
   "outputs": [],
   "source": [
    "import sys\n",
    "sys.path.append('..')"
   ]
  },
  {
   "cell_type": "code",
   "execution_count": 2,
   "id": "ad1969fe",
   "metadata": {},
   "outputs": [],
   "source": [
    "def imshow(image, label=None, figsize=(4,4), cmap='gray', **kwargs):\n",
    "    plt.figure(figsize=figsize)\n",
    "    if label is not None:\n",
    "        print(label)\n",
    "    plt.imshow(image, **kwargs, cmap=cmap)\n",
    "    plt.show()"
   ]
  },
  {
   "cell_type": "code",
   "execution_count": 3,
   "id": "b334a7a8",
   "metadata": {},
   "outputs": [],
   "source": [
    "class Flatten:\n",
    "    def __call__(self, img):\n",
    "        return img.flatten()"
   ]
  },
  {
   "cell_type": "markdown",
   "id": "c0b5ed96",
   "metadata": {},
   "source": [
    "# Data"
   ]
  },
  {
   "cell_type": "code",
   "execution_count": 4,
   "id": "395d1ca0",
   "metadata": {},
   "outputs": [],
   "source": [
    "N = 28\n",
    "NUM_CLASSES = 10\n",
    "SEED = 42"
   ]
  },
  {
   "cell_type": "code",
   "execution_count": 5,
   "id": "0ac93a11",
   "metadata": {},
   "outputs": [],
   "source": [
    "transforms = torchvision.transforms.Compose([\n",
    "    ToTensor(),\n",
    "    Normalize((0.1307,), (0.3081,)),\n",
    "    Flatten(),\n",
    "])"
   ]
  },
  {
   "cell_type": "code",
   "execution_count": 6,
   "id": "62a66c23",
   "metadata": {},
   "outputs": [],
   "source": [
    "train_dataset = datasets.MNIST(root='../data', train=True, download=False, transform=transforms)\n",
    "train_loader = DataLoader(train_dataset, batch_size=1, shuffle=True)"
   ]
  },
  {
   "cell_type": "code",
   "execution_count": 7,
   "id": "7b50c49b",
   "metadata": {},
   "outputs": [],
   "source": [
    "test_dataset = datasets.MNIST(root='../data', train=False, download=False, transform=transforms)\n",
    "# test_loader = DataLoader(Subset(test_dataset, np.arange(1_000)), batch_size=64, shuffle=False)\n",
    "test_loader = DataLoader(test_dataset, batch_size=64, shuffle=False)"
   ]
  },
  {
   "cell_type": "code",
   "execution_count": 8,
   "id": "f54298da",
   "metadata": {},
   "outputs": [],
   "source": [
    "for img, label in test_loader:\n",
    "    break"
   ]
  },
  {
   "cell_type": "code",
   "execution_count": 9,
   "id": "8a267985",
   "metadata": {
    "scrolled": true
   },
   "outputs": [
    {
     "name": "stdout",
     "output_type": "stream",
     "text": [
      "7\n"
     ]
    },
    {
     "data": {
      "image/png": "[encoded data removed]",
      "text/plain": [
       "<Figure size 288x288 with 1 Axes>"
      ]
     },
     "metadata": {
      "needs_background": "light"
     },
     "output_type": "display_data"
    }
   ],
   "source": [
    "imshow(img[0].reshape(N, N), label=label[0].item())"
   ]
  },
  {
   "cell_type": "markdown",
   "id": "9d9723e1",
   "metadata": {},
   "source": [
    "# Activations"
   ]
  },
  {
   "cell_type": "code",
   "execution_count": 11,
   "id": "f471ce85",
   "metadata": {},
   "outputs": [],
   "source": [
    "from src.activation import Tanh, Sigmoid, ReLU, Softmax"
   ]
  },
  {
   "cell_type": "markdown",
   "id": "a6dfd3ba",
   "metadata": {},
   "source": [
    "# Costs"
   ]
  },
  {
   "cell_type": "code",
   "execution_count": 13,
   "id": "dcf340b7",
   "metadata": {},
   "outputs": [],
   "source": [
    "from src.cost import MSE, CrossEntropy"
   ]
  },
  {
   "cell_type": "markdown",
   "id": "0a231363",
   "metadata": {},
   "source": [
    "# Optimizer"
   ]
  },
  {
   "cell_type": "code",
   "execution_count": 39,
   "id": "c96ee13d",
   "metadata": {},
   "outputs": [],
   "source": [
    "from src.optim import SGD, Adam "
   ]
  },
  {
   "cell_type": "markdown",
   "id": "7fb17d11",
   "metadata": {},
   "source": [
    "# Net layers"
   ]
  },
  {
   "cell_type": "code",
   "execution_count": 43,
   "id": "d0b11eb8",
   "metadata": {},
   "outputs": [],
   "source": [
    "from src.nn import Linear"
   ]
  },
  {
   "cell_type": "code",
   "execution_count": 42,
   "id": "6bb81c4d",
   "metadata": {},
   "outputs": [],
   "source": [
    "class Linear():\n",
    "    def __init__(self, n_in, n_out):\n",
    "        self.w = np.random.randn(n_in, n_out) * np.sqrt(2 / n_in)\n",
    "        self.b = np.zeros(n_out)\n",
    "        self.requires_grad = True\n",
    "    def forward(self, x):\n",
    "        self.old_x = x\n",
    "        return np.dot(x, self.w) + self.b\n",
    "\n",
    "    def backward(self,grad):\n",
    "        self.grad_b = grad.mean(axis=0)\n",
    "        self.grad_w = self.old_x.T @ grad\n",
    "        return np.dot(grad, self.w.T)"
   ]
  },
  {
   "cell_type": "code",
   "execution_count": null,
   "id": "5f8c66ac",
   "metadata": {},
   "outputs": [],
   "source": []
  },
  {
   "cell_type": "markdown",
   "id": "542dc045",
   "metadata": {},
   "source": [
    "# Model "
   ]
  },
  {
   "cell_type": "code",
   "execution_count": null,
   "id": "5173c521",
   "metadata": {},
   "outputs": [],
   "source": []
  },
  {
   "cell_type": "code",
   "execution_count": 40,
   "id": "6a2df0ae",
   "metadata": {},
   "outputs": [],
   "source": [
    "class Model():\n",
    "    def __init__(self, layers, cost, optimizer):\n",
    "        self.layers = layers\n",
    "        self.cost = cost\n",
    "        self.optimizer = optimizer\n",
    "        self.optimizer.init_params(self)\n",
    "        \n",
    "    def one_hot(self, label):\n",
    "        return np.eye(10)[label]\n",
    "    \n",
    "    def forward(self,x):\n",
    "        for layer in self.layers:\n",
    "            x = layer.forward(x)\n",
    "        return x\n",
    "\n",
    "    def loss(self,x,y):\n",
    "        return self.cost.forward(self.forward(x), y)\n",
    "\n",
    "    def backward(self):\n",
    "        grad = self.cost.backward()\n",
    "        for i in range(len(self.layers)-1,-1,-1):\n",
    "            grad = self.layers[i].backward(grad)\n",
    "    \n",
    "    def train(self, train_loader, test_loader, epochs, num_samples=10_000, verbose=True):\n",
    "        samples = 0\n",
    "        accs = []\n",
    "        losses = []\n",
    "        for epoch in tqdm(range(epochs)):\n",
    "            self.cur_epoch = epoch\n",
    "            for img, label in train_loader:\n",
    "                bs = img.shape[0]\n",
    "                y = self.one_hot(label)\n",
    "                x = img.numpy()\n",
    "                self.cur_x = x\n",
    "                self.cur_y = y\n",
    "\n",
    "                self.loss(x, y)\n",
    "                self.backward()\n",
    "\n",
    "                self.optimizer.step()\n",
    "            \n",
    "            acc, loss = self.validate(test_loader)\n",
    "            if verbose:\n",
    "                print(f\"epoch: {epoch}\")\n",
    "                print(f\"loss: {loss} acc: {acc}\")\n",
    "            accs.append(acc)\n",
    "            losses.append(loss)\n",
    "        return accs, losses\n",
    "    \n",
    "    def validate(self, loader):\n",
    "        losses = []\n",
    "        acc = 0\n",
    "        counter = 0\n",
    "        for img, label in loader:\n",
    "            bs = img.shape[0]\n",
    "            y = self.one_hot(label)\n",
    "            x = img.numpy()\n",
    "            \n",
    "            preds = np.argmax(np.array(self.forward(x)), axis=1)\n",
    "            labels = label.numpy()\n",
    "            \n",
    "            acc += sum(labels == preds)\n",
    "            counter += bs\n",
    "            \n",
    "            losses.append(self.loss(x, y))\n",
    "        return acc / counter, np.mean(losses)"
   ]
  }
 ],
 "metadata": {
  "kernelspec": {
   "display_name": "Python 3",
   "language": "python",
   "name": "python3"
  },
  "language_info": {
   "codemirror_mode": {
    "name": "ipython",
    "version": 3
   },
   "file_extension": ".py",
   "mimetype": "text/x-python",
   "name": "python",
   "nbconvert_exporter": "python",
   "pygments_lexer": "ipython3",
   "version": "3.7.10"
  }
 },
 "nbformat": 4,
 "nbformat_minor": 5
}
